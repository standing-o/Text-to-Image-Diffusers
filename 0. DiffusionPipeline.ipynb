{
 "cells": [
  {
   "cell_type": "markdown",
   "id": "4c52e979d733b94d",
   "metadata": {},
   "source": [
    "## **0. DiffusionPipeline**\n",
    "> Original Source: https://huggingface.co/docs/diffusers/quicktour, https://huggingface.co/docs/diffusers/stable_diffusion\n",
    "\n",
    "```\n",
    "> Components of DiffusionPipeline\n",
    "> Local Pipeline\n",
    "> Swapping Schedulers\n",
    "> Models\n",
    "> Schedulers\n",
    "> Efficient Diffusion: Speed\n",
    "> Efficient Diffusion: Memory\n",
    "> Efficient Diffusion: Quaility\n",
    "```"
   ]
  },
  {
   "cell_type": "code",
   "execution_count": 36,
   "id": "initial_id",
   "metadata": {
    "jupyter": {
     "is_executing": true
    }
   },
   "outputs": [],
   "source": [
    "import numpy as np\n",
    "import torch\n",
    "import tqdm\n",
    "import matplotlib.pyplot as plt\n",
    "\n",
    "from diffusers import DiffusionPipeline\n",
    "from diffusers import EulerDiscreteScheduler\n",
    "from diffusers import UNet2DModel\n",
    "from diffusers import DDPMScheduler\n",
    "from diffusers import DPMSolverMultistepScheduler\n",
    "from diffusers import AutoencoderKL\n",
    "\n",
    "from diffusers.utils import make_image_grid"
   ]
  },
  {
   "cell_type": "markdown",
   "id": "1b5bba2f-bec6-4337-a0fb-b9b5c855d0aa",
   "metadata": {},
   "source": [
    "----\n",
    "### **Components of DiffusionPipeline**\n",
    "- The `DiffusionPipeline` is the easiest way to use a pretrained diffusion system for inference.\n",
    "- It is an end-to-end system containing the model and the scheduler.\n",
    "- We can use the `DiffusionPipeline` for any checkpoint stored on the Hugging Face Hub.\n",
    "\n",
    "- **Download 15 files for `stable-diffusion-v1-5`**\n",
    "  - 15 files are being fetched, including model weights, configuration files, and tokenizer data.\n",
    "<br>\n",
    "\n",
    "| Object Name| Description |\n",
    "|--------------|-------------------------------------|\n",
    "| model_index.json     | Metadata file that specifies the types and locations of each pipeline component. |\n",
    "| model.safetensors (492M)   | Contains weights for one of the trained models (e.g., text encoder).   |\n",
    "| model.safetensors (1.22G)  | Contains weights for another model component, such as the VAE or U-Net.  |\n",
    "| preprocessor_config.json  | Configuration file for the preprocessor, defining how inputs are processed before the model.  |\n",
    "| config.json (617B)         | Configuration file that contains model hyperparameters like hidden size, number of layers.   |\n",
    "| special_tokens_map.json   | Maps special tokens like `[CLS]` or `[PAD]` used during tokenization.     |\n",
    "| scheduler_config.json       | Configuration for the noise scheduler used during the diffusion process.|\n",
    "| config.json (4.72kB)  | Another configuration file for a different component.  |\n",
    "| diffusion_pytorch_model.safetensors (3.44G) | The main diffusion model (e.g., U-Net) used for denoising and image reconstruction. |\n",
    "| merges.txt    | Defines merge rules used by the tokenizer with Byte Pair Encoding (BPE).     |\n",
    "| tokenizer_config.json   | Configuration file for the tokenizer used to encode input text.   | \n",
    "| vocab.json      | Vocabulary file for the tokenizer that defines how text is split into tokens.  |\n",
    "| diffusion_pytorch_model.safetensors (335M)| Weights for another diffusion-related component, possibly an auxiliary network. |\n"
   ]
  },
  {
   "cell_type": "code",
   "execution_count": 3,
   "id": "bc2f400d03928eb5",
   "metadata": {},
   "outputs": [
    {
     "data": {
      "application/vnd.jupyter.widget-view+json": {
       "model_id": "5da9af8018d9420abce3432abc70db98",
       "version_major": 2,
       "version_minor": 0
      },
      "text/plain": [
       "Loading pipeline components...:   0%|          | 0/7 [00:00<?, ?it/s]"
      ]
     },
     "metadata": {},
     "output_type": "display_data"
    }
   ],
   "source": [
    "pipeline = DiffusionPipeline.from_pretrained(\"stable-diffusion-v1-5/stable-diffusion-v1-5\", use_safetensors=True)"
   ]
  },
  {
   "cell_type": "markdown",
   "id": "23b80274-e709-42f0-a50c-a115d2af43a5",
   "metadata": {},
   "source": [
    "- The `DiffusionPipeline` downloads and caches all modeling, tokenization, and scheduling components.\n",
    "  - Stable Diffusion pipeline is composed of the `UNet2DConditionModel` and `PNDMScheduler` among other things."
   ]
  },
  {
   "cell_type": "code",
   "execution_count": 4,
   "id": "48446ef5-810e-4eed-89ae-50c2e63977f3",
   "metadata": {},
   "outputs": [
    {
     "data": {
      "text/plain": [
       "StableDiffusionPipeline {\n",
       "  \"_class_name\": \"StableDiffusionPipeline\",\n",
       "  \"_diffusers_version\": \"0.33.1\",\n",
       "  \"_name_or_path\": \"stable-diffusion-v1-5/stable-diffusion-v1-5\",\n",
       "  \"feature_extractor\": [\n",
       "    \"transformers\",\n",
       "    \"CLIPImageProcessor\"\n",
       "  ],\n",
       "  \"image_encoder\": [\n",
       "    null,\n",
       "    null\n",
       "  ],\n",
       "  \"requires_safety_checker\": true,\n",
       "  \"safety_checker\": [\n",
       "    \"stable_diffusion\",\n",
       "    \"StableDiffusionSafetyChecker\"\n",
       "  ],\n",
       "  \"scheduler\": [\n",
       "    \"diffusers\",\n",
       "    \"PNDMScheduler\"\n",
       "  ],\n",
       "  \"text_encoder\": [\n",
       "    \"transformers\",\n",
       "    \"CLIPTextModel\"\n",
       "  ],\n",
       "  \"tokenizer\": [\n",
       "    \"transformers\",\n",
       "    \"CLIPTokenizer\"\n",
       "  ],\n",
       "  \"unet\": [\n",
       "    \"diffusers\",\n",
       "    \"UNet2DConditionModel\"\n",
       "  ],\n",
       "  \"vae\": [\n",
       "    \"diffusers\",\n",
       "    \"AutoencoderKL\"\n",
       "  ]\n",
       "}"
      ]
     },
     "execution_count": 4,
     "metadata": {},
     "output_type": "execute_result"
    }
   ],
   "source": [
    "pipeline"
   ]
  },
  {
   "cell_type": "code",
   "execution_count": 6,
   "id": "89473929-2eab-4535-8c54-df0ea2294feb",
   "metadata": {},
   "outputs": [],
   "source": [
    "pipeline.to(\"cuda\")"
   ]
  },
  {
   "cell_type": "markdown",
   "id": "50537d78-4068-4392-b7f4-f9592d9b2a0c",
   "metadata": {},
   "source": [
    "### **Local Pipeline**\n",
    "- You can also use the pipeline locally. The only difference is you need to download the weights first:\n",
    "\n",
    "```\n",
    "!git lfs install\n",
    "!git clone https://huggingface.co/stable-diffusion-v1-5/stable-diffusion-v1-5\n",
    "```"
   ]
  },
  {
   "cell_type": "code",
   "execution_count": 8,
   "id": "d974df3a-281e-41cd-9989-3be591f8d8e0",
   "metadata": {},
   "outputs": [],
   "source": [
    "pipeline = DiffusionPipeline.from_pretrained(\"./stable-diffusion-v1-5\", use_safetensors=True)"
   ]
  },
  {
   "cell_type": "markdown",
   "id": "86d07931-ddb3-4a52-a829-bc74ffc75ab8",
   "metadata": {},
   "source": [
    "### **Swapping Schedulers**\n",
    "- Different schedulers come with different denoising speeds and quality trade-offs.\n",
    "- The best way to find out which one works best for you is to try them out.\n",
    "- To replace the default `PNDMScheduler` with the `EulerDiscreteScheduler`, load it with the `from_config()` method:\n",
    "  - Try generating an image with the new scheduler and see if you notice a difference"
   ]
  },
  {
   "cell_type": "code",
   "execution_count": 9,
   "id": "9a6640e4-65e7-44f4-96d4-58aa05c5ca11",
   "metadata": {},
   "outputs": [
    {
     "data": {
      "application/vnd.jupyter.widget-view+json": {
       "model_id": "ae1ebe8de9bc4ff4a28b0c0350a98e3f",
       "version_major": 2,
       "version_minor": 0
      },
      "text/plain": [
       "Loading pipeline components...:   0%|          | 0/7 [00:00<?, ?it/s]"
      ]
     },
     "metadata": {},
     "output_type": "display_data"
    }
   ],
   "source": [
    "pipeline = DiffusionPipeline.from_pretrained(\"stable-diffusion-v1-5/stable-diffusion-v1-5\", use_safetensors=True)\n",
    "pipeline.scheduler = EulerDiscreteScheduler.from_config(pipeline.scheduler.config)"
   ]
  },
  {
   "cell_type": "code",
   "execution_count": 10,
   "id": "949c4134-2c3d-433e-9033-69ec4300be77",
   "metadata": {},
   "outputs": [
    {
     "data": {
      "text/plain": [
       "StableDiffusionPipeline {\n",
       "  \"_class_name\": \"StableDiffusionPipeline\",\n",
       "  \"_diffusers_version\": \"0.33.1\",\n",
       "  \"_name_or_path\": \"stable-diffusion-v1-5/stable-diffusion-v1-5\",\n",
       "  \"feature_extractor\": [\n",
       "    \"transformers\",\n",
       "    \"CLIPImageProcessor\"\n",
       "  ],\n",
       "  \"image_encoder\": [\n",
       "    null,\n",
       "    null\n",
       "  ],\n",
       "  \"requires_safety_checker\": true,\n",
       "  \"safety_checker\": [\n",
       "    \"stable_diffusion\",\n",
       "    \"StableDiffusionSafetyChecker\"\n",
       "  ],\n",
       "  \"scheduler\": [\n",
       "    \"diffusers\",\n",
       "    \"EulerDiscreteScheduler\"\n",
       "  ],\n",
       "  \"text_encoder\": [\n",
       "    \"transformers\",\n",
       "    \"CLIPTextModel\"\n",
       "  ],\n",
       "  \"tokenizer\": [\n",
       "    \"transformers\",\n",
       "    \"CLIPTokenizer\"\n",
       "  ],\n",
       "  \"unet\": [\n",
       "    \"diffusers\",\n",
       "    \"UNet2DConditionModel\"\n",
       "  ],\n",
       "  \"vae\": [\n",
       "    \"diffusers\",\n",
       "    \"AutoencoderKL\"\n",
       "  ]\n",
       "}"
      ]
     },
     "execution_count": 10,
     "metadata": {},
     "output_type": "execute_result"
    }
   ],
   "source": [
    "pipeline"
   ]
  },
  {
   "cell_type": "markdown",
   "id": "c0f408f3-462c-4367-9f67-8b2a77e995aa",
   "metadata": {},
   "source": [
    "### **Models**\n",
    "- Most models take a noisy sample, and at each timestep it predicts the noise residual.\n",
    "  - Other models learn to predict the previous sample directly or the velocity or v-prediction, the difference between a less noisy image and the input image.\n",
    "  - You can mix and match models to create other diffusion systems.\n",
    "\n",
    "- Models are initiated with the `from_pretrained()` method which also locally caches the model weights so it is faster the next time you load the model.\n",
    "- You’ll load the `UNet2DModel`, a basic unconditional image generation model with a checkpoint trained on cat images:"
   ]
  },
  {
   "cell_type": "code",
   "execution_count": 11,
   "id": "df596882-68cf-41e2-a16f-596f322ce08a",
   "metadata": {},
   "outputs": [],
   "source": [
    "repo_id = \"google/ddpm-cat-256\"\n",
    "model = UNet2DModel.from_pretrained(repo_id, use_safetensors=True)"
   ]
  },
  {
   "cell_type": "markdown",
   "id": "07872c37-b3af-47d9-8e9f-bf8ffc9c16ce",
   "metadata": {},
   "source": [
    "- The model configuration is a 🧊 frozen 🧊 dictionary, which means those parameters can’t be changed after the model is created. \n",
    "  - Other parameters can still be adjusted during inference.\n",
    "\n",
    "| Object Name                        | Description           |\n",
    "|-------------------------------------|--------------------------------|\n",
    "| `sample_size`    | the height and width dimension of the input sample.    |\n",
    "| `in_channels`   | the number of input channels of the input sample.   |\n",
    "| `down_block_types` and `up_block_types`  | the type of down- and upsampling blocks used to create the UNet architecture.     |\n",
    "| `block_out_channels`  | the number of output channels of the downsampling blocks; also used in reverse order for the number of input channels of the upsampling blocks.    |\n",
    "| `layers_per_block`  | the number of ResNet blocks present in each UNet block.  |"
   ]
  },
  {
   "cell_type": "code",
   "execution_count": 12,
   "id": "3a9ad6d4-1318-4e1c-9d74-f9154ef7b581",
   "metadata": {},
   "outputs": [
    {
     "data": {
      "text/plain": [
       "FrozenDict([('sample_size', 256),\n",
       "            ('in_channels', 3),\n",
       "            ('out_channels', 3),\n",
       "            ('center_input_sample', False),\n",
       "            ('time_embedding_type', 'positional'),\n",
       "            ('time_embedding_dim', None),\n",
       "            ('freq_shift', 1),\n",
       "            ('flip_sin_to_cos', False),\n",
       "            ('down_block_types',\n",
       "             ['DownBlock2D',\n",
       "              'DownBlock2D',\n",
       "              'DownBlock2D',\n",
       "              'DownBlock2D',\n",
       "              'AttnDownBlock2D',\n",
       "              'DownBlock2D']),\n",
       "            ('mid_block_type', 'UNetMidBlock2D'),\n",
       "            ('up_block_types',\n",
       "             ['UpBlock2D',\n",
       "              'AttnUpBlock2D',\n",
       "              'UpBlock2D',\n",
       "              'UpBlock2D',\n",
       "              'UpBlock2D',\n",
       "              'UpBlock2D']),\n",
       "            ('block_out_channels', [128, 128, 256, 256, 512, 512]),\n",
       "            ('layers_per_block', 2),\n",
       "            ('mid_block_scale_factor', 1),\n",
       "            ('downsample_padding', 0),\n",
       "            ('downsample_type', 'conv'),\n",
       "            ('upsample_type', 'conv'),\n",
       "            ('dropout', 0.0),\n",
       "            ('act_fn', 'silu'),\n",
       "            ('attention_head_dim', None),\n",
       "            ('norm_num_groups', 32),\n",
       "            ('attn_norm_num_groups', None),\n",
       "            ('norm_eps', 1e-06),\n",
       "            ('resnet_time_scale_shift', 'default'),\n",
       "            ('add_attention', True),\n",
       "            ('class_embed_type', None),\n",
       "            ('num_class_embeds', None),\n",
       "            ('num_train_timesteps', None),\n",
       "            ('_use_default_values',\n",
       "             ['attn_norm_num_groups',\n",
       "              'num_class_embeds',\n",
       "              'time_embedding_dim',\n",
       "              'mid_block_type',\n",
       "              'resnet_time_scale_shift',\n",
       "              'num_train_timesteps',\n",
       "              'upsample_type',\n",
       "              'downsample_type',\n",
       "              'add_attention',\n",
       "              'dropout',\n",
       "              'class_embed_type']),\n",
       "            ('_class_name', 'UNet2DModel'),\n",
       "            ('_diffusers_version', '0.0.4'),\n",
       "            ('_name_or_path', 'google/ddpm-cat-256')])"
      ]
     },
     "execution_count": 12,
     "metadata": {},
     "output_type": "execute_result"
    }
   ],
   "source": [
    "model.config"
   ]
  },
  {
   "cell_type": "markdown",
   "id": "4bd6e60c-318e-4184-a4e8-dfc4108796fc",
   "metadata": {},
   "source": [
    "- To use the model for inference, create the image shape with random Gaussian noise.\n",
    "- It should have a batch axis because the model can receive multiple random noises, a channel axis corresponding to the number of input channels, and a sample_size axis for the height and width of the image:"
   ]
  },
  {
   "cell_type": "code",
   "execution_count": 13,
   "id": "86050422-bd94-412f-a502-3050e5408bf0",
   "metadata": {},
   "outputs": [
    {
     "data": {
      "text/plain": [
       "torch.Size([1, 3, 256, 256])"
      ]
     },
     "execution_count": 13,
     "metadata": {},
     "output_type": "execute_result"
    }
   ],
   "source": [
    "torch.manual_seed(0)\n",
    "\n",
    "noisy_sample = torch.randn(1, model.config.in_channels, model.config.sample_size, model.config.sample_size)\n",
    "noisy_sample.shape"
   ]
  },
  {
   "cell_type": "markdown",
   "id": "4c13c5e6-8d1e-4e38-83aa-4f0755242eee",
   "metadata": {},
   "source": [
    "- For inference, pass the noisy image and a **timestep** to the model.\n",
    "- The timestep indicates how noisy the input image is, with more noise at the beginning and less at the end.\n",
    "- This helps the model **determine its position in the diffusion process**, whether it is closer to the start or the end.\n",
    "  - Use the sample method to get the model output:"
   ]
  },
  {
   "cell_type": "code",
   "execution_count": 14,
   "id": "5799a902-5bce-49ff-ac1b-0329dfbb4fc3",
   "metadata": {},
   "outputs": [],
   "source": [
    "with torch.no_grad():\n",
    "    noisy_residual = model(sample=noisy_sample, timestep=2).sample"
   ]
  },
  {
   "cell_type": "markdown",
   "id": "1d267f87-e930-4070-a9f7-67d0148e7c53",
   "metadata": {},
   "source": [
    "### **Schedulers**\n",
    "- Schedulers manage going from a noisy sample to a less noisy sample given the model output \n",
    "  - In this case, it is the `noisy_residual`.\n",
    " \n",
    "- For the quicktour, you’ll instantiate the DDPMScheduler with its `from_config()` method:"
   ]
  },
  {
   "cell_type": "markdown",
   "id": "34c9f08c-71e3-470e-9483-89a4f5b1c766",
   "metadata": {},
   "source": [
    "| Parameter Name     | Description        |\n",
    "|----------|-------------------------|\n",
    "| `_class_name`   | The name of the scheduler class being used. `\"DDPMScheduler\"` indicates a standard DDPM scheduler.      |\n",
    "| `_diffusers_version`  | The version of the Diffusers library used to create or last update this configuration.               |\n",
    "| `beta_start`   | The starting value of beta for the linear noise schedule. Controls how much noise is added early on.    |\n",
    "| `beta_end`  | The ending value of beta for the linear noise schedule. Controls how much noise is added at the end.    |\n",
    "| `beta_schedule`  | The type of schedule used to control how betas change over time. `\"linear\"` means linearly increasing.  |\n",
    "| `clip_sample`  | Whether to clip the predicted sample between `-1.0` and `1.0` to stabilize training or inference.     |\n",
    "| `clip_sample_range`| The range within which to clip samples if `clip_sample=True`.       |\n",
    "| `dynamic_thresholding_ratio`  | Ratio used for dynamic thresholding during sampling to avoid saturation.          |\n",
    "| `num_train_timesteps` | The length of the denoising process, i.e., the number of timesteps required to process random Gaussian noise into a data sample.    |\n",
    "| `prediction_type`  | What the model is trained to predict: `\"epsilon\"` = noise, `\"sample\"` = denoised sample, etc.     |\n",
    "| `rescale_betas_zero_snr` | Whether to rescale betas for zero Signal-to-Noise Ratio (SNR) setting.       |\n",
    "| `sample_max_value`   | Maximum absolute value the sample is allowed to take (used during clipping or thresholding).     |\n",
    "| `steps_offset`  | Offset added to the timestep index. Can help align with training if a shift was applied.  |\n",
    "| `thresholding`    | Whether to apply thresholding (e.g., dynamic) to samples to prevent outlier pixel values.    |\n",
    "| `timestep_spacing`  | Method of spacing timesteps. `\"leading\"` means time steps start at the beginning and progress uniformly. |\n",
    "| `trained_betas`  | If provided, a custom list of betas learned during training; otherwise uses the scheduled ones.    |\n",
    "| `variance_type`   | Type of variance to use during sampling: `\"fixed_small\"`, `\"fixed_large\"`, etc.     |\n"
   ]
  },
  {
   "cell_type": "code",
   "execution_count": 15,
   "id": "68440f9b-bef3-4c4f-9b12-988c419974ec",
   "metadata": {},
   "outputs": [
    {
     "data": {
      "text/plain": [
       "DDPMScheduler {\n",
       "  \"_class_name\": \"DDPMScheduler\",\n",
       "  \"_diffusers_version\": \"0.33.1\",\n",
       "  \"beta_end\": 0.02,\n",
       "  \"beta_schedule\": \"linear\",\n",
       "  \"beta_start\": 0.0001,\n",
       "  \"clip_sample\": true,\n",
       "  \"clip_sample_range\": 1.0,\n",
       "  \"dynamic_thresholding_ratio\": 0.995,\n",
       "  \"num_train_timesteps\": 1000,\n",
       "  \"prediction_type\": \"epsilon\",\n",
       "  \"rescale_betas_zero_snr\": false,\n",
       "  \"sample_max_value\": 1.0,\n",
       "  \"steps_offset\": 0,\n",
       "  \"thresholding\": false,\n",
       "  \"timestep_spacing\": \"leading\",\n",
       "  \"trained_betas\": null,\n",
       "  \"variance_type\": \"fixed_small\"\n",
       "}"
      ]
     },
     "execution_count": 15,
     "metadata": {},
     "output_type": "execute_result"
    }
   ],
   "source": [
    "scheduler = DDPMScheduler.from_pretrained(repo_id)\n",
    "scheduler"
   ]
  },
  {
   "cell_type": "markdown",
   "id": "f31e60de-a79b-4009-8622-e156f498a68d",
   "metadata": {},
   "source": [
    "- To predict a slightly less noisy image, pass the following to the scheduler’s `step()` method:\n",
    "  - model output, timestep, and current sample."
   ]
  },
  {
   "cell_type": "code",
   "execution_count": 16,
   "id": "6c131f91-e4d6-4652-a905-3e712649352c",
   "metadata": {},
   "outputs": [
    {
     "data": {
      "text/plain": [
       "torch.Size([1, 3, 256, 256])"
      ]
     },
     "execution_count": 16,
     "metadata": {},
     "output_type": "execute_result"
    }
   ],
   "source": [
    "less_noisy_sample = scheduler.step(model_output=noisy_residual, timestep=2, sample=noisy_sample).prev_sample\n",
    "less_noisy_sample.shape"
   ]
  },
  {
   "cell_type": "markdown",
   "id": "9a50c1af-4be0-4042-98d8-93756a2791a0",
   "metadata": {},
   "source": [
    "- Create a denoising loop that predicts the residual of the less noisy sample, and computes the less noisy sample with the scheduler:"
   ]
  },
  {
   "cell_type": "code",
   "execution_count": 18,
   "id": "664195de-42e0-42c6-8207-646c4c75333a",
   "metadata": {},
   "outputs": [
    {
     "name": "stderr",
     "output_type": "stream",
     "text": [
      "100%|██████████████████████████████████████████████████████████████████████████████| 1000/1000 [14:34<00:00,  1.14it/s]\n"
     ]
    }
   ],
   "source": [
    "sample = noisy_sample\n",
    "\n",
    "for i, t in enumerate(tqdm.tqdm(scheduler.timesteps)):\n",
    "    # 1. predict noise residual\n",
    "    with torch.no_grad():\n",
    "        residual = model(sample, t).sample\n",
    "\n",
    "    # 2. compute less noisy image and set x_t -> x_t-1\n",
    "    sample = scheduler.step(residual, t, sample).prev_sample"
   ]
  },
  {
   "cell_type": "code",
   "execution_count": 33,
   "id": "abca5545-63ff-4645-a978-38ca0ecea964",
   "metadata": {},
   "outputs": [
    {
     "data": {
      "image/png": "[encoded data removed]",
      "text/plain": [
       "<Figure size 640x480 with 1 Axes>"
      ]
     },
     "metadata": {},
     "output_type": "display_data"
    }
   ],
   "source": [
    "image_processed = (sample.cpu().permute(0, 2, 3, 1) + 1.0) * 127.5\n",
    "image_processed = image_processed.numpy().astype(np.uint8)\n",
    "\n",
    "plt.imshow(image_processed[0])\n",
    "plt.axis(\"off\")\n",
    "plt.show()"
   ]
  },
  {
   "cell_type": "markdown",
   "id": "b188e66b-0469-4447-9dd3-029f0f8c869f",
   "metadata": {},
   "source": [
    "### **Efficient Diffusion: Speed**\n",
    "- Often times, you have to run the `DiffusionPipeline` several times.\n",
    "  - But generating something out of nothing is a computationally intensive process, especially if you’re running inference over and over again.\n",
    "- This is why it’s important to get the most computational (speed) and memory (GPU vRAM) efficiency from the pipeline to reduce the time between inference cycles so you can iterate faster."
   ]
  },
  {
   "cell_type": "code",
   "execution_count": null,
   "id": "4b62e211-bc13-4db3-9153-5ed69c4dc8ff",
   "metadata": {},
   "outputs": [],
   "source": [
    "prompt = \"portrait photo of a old warrior chief\""
   ]
  },
  {
   "cell_type": "code",
   "execution_count": null,
   "id": "317a0de5-a332-4993-8416-c37314f2291a",
   "metadata": {},
   "outputs": [],
   "source": [
    "pipeline = pipeline.to(\"cuda\")\n",
    "generator = torch.Generator(\"cuda\").manual_seed(0)"
   ]
  },
  {
   "cell_type": "markdown",
   "id": "b66be440-1c44-4e5a-907a-9ab80624d352",
   "metadata": {},
   "source": [
    "- This process took ~30 seconds on a T4 GPU (it might be faster if your allocated GPU is better than a T4).\n",
    "  - By default, the `DiffusionPipeline` runs inference with **full float32 precision for 50 inference steps**.\n",
    "  - You can speed this up by switching to a **lower precision like float16** or running fewer inference steps."
   ]
  },
  {
   "cell_type": "code",
   "execution_count": null,
   "id": "bfb169d0-37ad-4b8b-8e6f-5b90ed125b30",
   "metadata": {},
   "outputs": [],
   "source": [
    "image = pipeline(prompt, generator=generator).images[0]"
   ]
  },
  {
   "cell_type": "markdown",
   "id": "4e0fa056-8990-4f17-a5d9-bd21e8cb4530",
   "metadata": {},
   "source": [
    "- Loading the model in **float16** and generate an image:\n",
    "- This time, it only took ~11 seconds to generate the image, which is almost **3x faster** than before.\n",
    "  - We strongly suggest always running your pipelines in **float16**, and so far, we’ve rarely seen any degradation in output quality."
   ]
  },
  {
   "cell_type": "code",
   "execution_count": null,
   "id": "f3d50e6e-6146-4a49-87b4-4cf6bc4454ae",
   "metadata": {},
   "outputs": [],
   "source": [
    "pipeline = DiffusionPipeline.from_pretrained(model_id, torch_dtype=torch.float16, use_safetensors=True)\n",
    "pipeline = pipeline.to(\"cuda\")\n",
    "generator = torch.Generator(\"cuda\").manual_seed(0)\n",
    "\n",
    "image = pipeline(prompt, generator=generator).images[0]"
   ]
  },
  {
   "cell_type": "markdown",
   "id": "fc9a7ebc-f24a-4a34-b8e1-73c9897e2bab",
   "metadata": {},
   "source": [
    "- Another option is to **reduce the number of inference steps**.\n",
    "  - **Choosing a more efficient scheduler** could help decrease the number of steps without sacrificing output quality.\n",
    "  - You can find which schedulers are compatible with the current model in the `DiffusionPipeline` by calling the compatibles method:"
   ]
  },
  {
   "cell_type": "markdown",
   "id": "508ca286-c7c9-4ae5-8a1a-28f3494b78cb",
   "metadata": {},
   "source": [
    "| Scheduler Class Name | Description |\n",
    "|----------------------|-------------|\n",
    "| `DDPMScheduler` | The original scheduler from Denoising Diffusion Probabilistic Models. Simple and robust, but slower. |\n",
    "| `DDIMScheduler` | DDIM (Denoising Diffusion Implicit Models) scheduler that enables deterministic or stochastic sampling with fewer steps. |\n",
    "| `PNDMScheduler` | Pseudo Numerical Methods scheduler that improves efficiency and quality over vanilla DDPM. Used in early Stable Diffusion. |\n",
    "| `DEISMultistepScheduler` | Denoising Explicit Implicit Scheduler, a fast multistep ODE-based method for improved efficiency. |\n",
    "| `DPMSolverSDEScheduler` | Scheduler designed for SDE-based models, using the DPM-Solver framework to handle stochastic dynamics. |\n",
    "| `DPMSolverMultistepScheduler` | DPM-Solver++ with multistep support. Balances speed and quality, commonly used in modern pipelines. |\n",
    "| `DPMSolverSinglestepScheduler` | A single-step version of DPM-Solver++, offering speed with acceptable quality for quick sampling. |\n",
    "| `EDMEulerScheduler` | Scheduler tailored for EDM (Elucidated Diffusion Models) using the Euler method. Designed for stable and precise inference. |\n",
    "| `EulerAncestralDiscreteScheduler` | Ancestral variant of Euler’s method, introduces stochasticity to improve sample diversity. |\n",
    "| `KDPM2AncestralDiscreteScheduler` | A stochastic version of DPM++ 2nd order scheduler using ancestral sampling for more diverse outputs. |\n",
    "| `LMSDiscreteScheduler` | Linear Multistep scheduler based on pseudo-numerical methods. Offers stable and consistent performance. |\n",
    "| `HeunDiscreteScheduler` | Uses Heun’s method (2nd order Runge-Kutta), achieving better accuracy over Euler with moderate step sizes. |\n",
    "| `EulerDiscreteScheduler` | Fast and simple scheduler using the Euler method. Good for fast generation and debugging. |\n",
    "| `UniPCMultistepScheduler` | Universal Predictor-Corrector scheduler, designed to adaptively balance precision and speed. |\n",
    "| `KDPM2DiscreteScheduler` | Deterministic variant of DPM++ 2nd order scheduler (Karras style), supports fast and high-quality generation. |\n"
   ]
  },
  {
   "cell_type": "code",
   "execution_count": 34,
   "id": "d32b1f8e-6e96-47bf-bd76-3ddb9c68a1a3",
   "metadata": {},
   "outputs": [
    {
     "data": {
      "text/plain": [
       "[diffusers.schedulers.scheduling_ddpm.DDPMScheduler,\n",
       " diffusers.schedulers.scheduling_ddim.DDIMScheduler,\n",
       " diffusers.schedulers.scheduling_pndm.PNDMScheduler,\n",
       " diffusers.schedulers.scheduling_deis_multistep.DEISMultistepScheduler,\n",
       " diffusers.utils.dummy_torch_and_torchsde_objects.DPMSolverSDEScheduler,\n",
       " diffusers.schedulers.scheduling_dpmsolver_multistep.DPMSolverMultistepScheduler,\n",
       " diffusers.schedulers.scheduling_dpmsolver_singlestep.DPMSolverSinglestepScheduler,\n",
       " diffusers.schedulers.scheduling_edm_euler.EDMEulerScheduler,\n",
       " diffusers.schedulers.scheduling_euler_ancestral_discrete.EulerAncestralDiscreteScheduler,\n",
       " diffusers.schedulers.scheduling_k_dpm_2_ancestral_discrete.KDPM2AncestralDiscreteScheduler,\n",
       " diffusers.utils.dummy_torch_and_scipy_objects.LMSDiscreteScheduler,\n",
       " diffusers.schedulers.scheduling_heun_discrete.HeunDiscreteScheduler,\n",
       " diffusers.schedulers.scheduling_euler_discrete.EulerDiscreteScheduler,\n",
       " diffusers.schedulers.scheduling_unipc_multistep.UniPCMultistepScheduler,\n",
       " diffusers.schedulers.scheduling_k_dpm_2_discrete.KDPM2DiscreteScheduler]"
      ]
     },
     "execution_count": 34,
     "metadata": {},
     "output_type": "execute_result"
    }
   ],
   "source": [
    "pipeline.scheduler.compatibles"
   ]
  },
  {
   "cell_type": "markdown",
   "id": "93c482d2-c963-40d3-b1d6-f7d7980a359d",
   "metadata": {},
   "source": [
    "- The Stable Diffusion model uses the `PNDMScheduler` by default which usually requires ~50 inference steps, but more performant schedulers like `DPMSolverMultistepScheduler`, require only ~20 or 25 inference steps.\n",
    "- Use the `from_config()` method to load a new scheduler: you’ve managed to cut the inference time to just 4 seconds."
   ]
  },
  {
   "cell_type": "code",
   "execution_count": null,
   "id": "1cb6091f-dd38-4dbe-b966-5131d2c38335",
   "metadata": {},
   "outputs": [],
   "source": [
    "pipeline.scheduler = DPMSolverMultistepScheduler.from_config(pipeline.scheduler.config)\n",
    "\n",
    "generator = torch.Generator(\"cuda\").manual_seed(0)\n",
    "image = pipeline(prompt, generator=generator, num_inference_steps=20).images[0]"
   ]
  },
  {
   "cell_type": "markdown",
   "id": "92e735f6-7786-4ea0-8c54-f948544e6218",
   "metadata": {},
   "source": [
    "### **Efficient Diffusion: Memory**\n",
    "- The other key to improving pipeline performance is **consuming less memory**, which indirectly implies more speed\n",
    "  - You’re often trying to maximize the number of images generated per second. \n",
    "- The easiest way to see **how many images you can generate at once** is to try out different **batch sizes** until you get an `OutOfMemoryError (OOM)`.\n",
    "\n",
    "- Create a function that’ll generate a batch of images from a list of prompts and Generators. \n",
    "  - Make sure to assign each Generator a seed so you can reuse it if it produces a good result."
   ]
  },
  {
   "cell_type": "code",
   "execution_count": 35,
   "id": "03c0ca47-6d7c-4700-b07c-dbdea3e95883",
   "metadata": {},
   "outputs": [],
   "source": [
    "def get_inputs(batch_size=1):\n",
    "    generator = [torch.Generator(\"cuda\").manual_seed(i) for i in range(batch_size)]\n",
    "    prompts = batch_size * [prompt]\n",
    "    num_inference_steps = 20\n",
    "\n",
    "    return {\"prompt\": prompts, \"generator\": generator, \"num_inference_steps\": num_inference_steps}"
   ]
  },
  {
   "cell_type": "code",
   "execution_count": null,
   "id": "c99dc048-7ced-42f1-a340-f699eddae39f",
   "metadata": {},
   "outputs": [],
   "source": [
    "images = pipeline(**get_inputs(batch_size=4)).images\n",
    "make_image_grid(images, 2, 2)"
   ]
  },
  {
   "cell_type": "markdown",
   "id": "31887a82-e20e-4edb-bff5-5d6e7e66be57",
   "metadata": {},
   "source": [
    "- Unless you have a GPU with more vRAM, the code above probably returned an OOM error \n",
    "  - Most of the memory is taken up by the `cross-attention layers`. \n",
    "  - Instead of running this operation in a batch, you can **run it sequentially to save a significant amount of memory**. \n",
    "  - All you have to do is configure the pipeline to use the `enable_attention_slicing()` function:"
   ]
  },
  {
   "cell_type": "code",
   "execution_count": null,
   "id": "0b9b1925-b2c9-4ea2-9a7e-a33536f8faa8",
   "metadata": {},
   "outputs": [],
   "source": [
    "pipeline.enable_attention_slicing()"
   ]
  },
  {
   "cell_type": "markdown",
   "id": "81a3760e-ce38-4507-ae43-96fb3d2bce6f",
   "metadata": {},
   "source": [
    "- Increase `batch_size` to 8\n",
    "- Whereas before you couldn’t even generate a batch of 4 images, now you can generate a batch of 8 images at ~3.5 seconds per image\n",
    "  - This is probably the fastest you can go on a T4 GPU without sacrificing quality."
   ]
  },
  {
   "cell_type": "code",
   "execution_count": null,
   "id": "49e349e8-8e99-4e4f-9173-006bed17ce81",
   "metadata": {},
   "outputs": [],
   "source": [
    "images = pipeline(**get_inputs(batch_size=8)).images"
   ]
  },
  {
   "cell_type": "markdown",
   "id": "5e17ecbd-5513-46b8-9faa-6d5e33f6e4f9",
   "metadata": {},
   "source": [
    "### **Efficient Diffusion: Quaility**\n",
    "- How to improve the quality of generated images.\n",
    "\n",
    "#### Better checkpoints\n",
    "- The Stable Diffusion model is a good starting point, and since its official launch, several improved versions have also been released.\n",
    "  - However, **using a newer version doesn’t automatically mean you’ll get better results**.\n",
    "  - You’ll still have to experiment with different checkpoints yourself, and do a little research (such as using negative prompts) to get the best results.\n",
    "  - There are more and more high-quality checkpoints finetuned to produce certain styles."
   ]
  },
  {
   "cell_type": "code",
   "execution_count": null,
   "id": "c4d913ba-6dc0-4440-bb83-ca33b6a03658",
   "metadata": {},
   "outputs": [],
   "source": [
    "vae = AutoencoderKL.from_pretrained(\"stabilityai/sd-vae-ft-mse\", torch_dtype=torch.float16).to(\"cuda\")\n",
    "pipeline.vae = vae\n",
    "\n",
    "images = pipeline(**get_inputs(batch_size=8)).images"
   ]
  },
  {
   "cell_type": "markdown",
   "id": "99442eff-58e5-4ded-84d1-4a4e18861e43",
   "metadata": {},
   "source": [
    "#### Better prompt engineering\n",
    "- The text prompt you use to generate an image is super important, so much so that it is called prompt engineering. \n",
    "- Some considerations to keep during prompt engineering are:\n",
    "  - How is the image or similar images of the one I want to generate stored on the internet?\n",
    "  - What additional detail can I give that steers the model towards the style I want?\n",
    "  - With this in mind, let’s improve the prompt to include color and higher quality details:"
   ]
  },
  {
   "cell_type": "code",
   "execution_count": null,
   "id": "60aa2718-32af-4a52-bb9b-ed008d0574e2",
   "metadata": {},
   "outputs": [],
   "source": [
    "prompt += \", tribal panther make up, blue on red, side profile, looking away, serious eyes\"\n",
    "prompt += \" 50mm portrait photography, hard rim lighting photography--beta --ar 2:3  --beta --upbeta\""
   ]
  }
 ],
 "metadata": {
  "kernelspec": {
   "display_name": "diffusers-t2i",
   "language": "python",
   "name": "diffusers-t2i"
  },
  "language_info": {
   "codemirror_mode": {
    "name": "ipython",
    "version": 3
   },
   "file_extension": ".py",
   "mimetype": "text/x-python",
   "name": "python",
   "nbconvert_exporter": "python",
   "pygments_lexer": "ipython3",
   "version": "3.9.21"
  }
 },
 "nbformat": 4,
 "nbformat_minor": 5
}
